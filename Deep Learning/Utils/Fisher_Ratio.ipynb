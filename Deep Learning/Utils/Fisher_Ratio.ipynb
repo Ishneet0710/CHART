{
  "nbformat": 4,
  "nbformat_minor": 0,
  "metadata": {
    "colab": {
      "provenance": [],
      "toc_visible": true
    },
    "kernelspec": {
      "name": "python3",
      "display_name": "Python 3"
    },
    "language_info": {
      "name": "python"
    }
  },
  "cells": [
    {
      "cell_type": "code",
      "execution_count": null,
      "metadata": {
        "id": "VZQnispuAqef",
        "colab": {
          "base_uri": "https://localhost:8080/"
        },
        "outputId": "dc76af20-3256-4f4c-c6a3-ebd6e379cfec"
      },
      "outputs": [
        {
          "output_type": "stream",
          "name": "stdout",
          "text": [
            "Mounted at /content/drive\n"
          ]
        }
      ],
      "source": [
        "from google.colab import drive\n",
        "drive.mount('/content/drive')"
      ]
    },
    {
      "cell_type": "code",
      "source": [
        "#Libraries\n",
        "import numpy as np\n",
        "import pandas as pd\n",
        "from sklearn.preprocessing import StandardScaler\n",
        "import cProfile\n",
        "import time"
      ],
      "metadata": {
        "id": "FvsvEFax_2sr"
      },
      "execution_count": null,
      "outputs": []
    },
    {
      "cell_type": "code",
      "source": [
        "#Load Data; only the training set is needed as feature selection is done upon that\n",
        "X_tr = pd.read_csv('/content/drive/My Drive/SRP/Public_URFall_Training.csv')\n",
        "Y_train = X_tr['class'].astype('category').cat.codes\n",
        "X_tr = X_tr.drop(['class'], axis = 1)\n",
        "#Initialize scaler\n",
        "scaler = StandardScaler()\n",
        "#Scale the training set accordingly\n",
        "scaler.fit(X_tr)\n",
        "X_train = scaler.transform(X_tr)\n",
        "#Convert training set to nump array\n",
        "trrgx = X_train\n",
        "trrgy = Y_train.to_numpy()"
      ],
      "metadata": {
        "id": "VxRUwEOL8cfd"
      },
      "execution_count": null,
      "outputs": []
    },
    {
      "cell_type": "code",
      "source": [
        "#Run Fisher Ratio in order to get ranking of features; outputs top 26 features\n",
        "def fisher_ratio_M(X, y):\n",
        "    \"\"\"\n",
        "    This computes the fisher ratio of each feature and returns the fisher ratio for each feature\n",
        "\n",
        "    Parameters\n",
        "    ----------\n",
        "    X : numpy 2d array of size (nSamples x nFeatures) (8+...+..)*62\n",
        "        training data; each row represents 1 training sample\n",
        "    y : numpy 2d array of size (nSamples x 1) or (nSamples,)\n",
        "        true label of training data\n",
        "\n",
        "    Returns\n",
        "    -------\n",
        "    FR : numpt 1d array of size (nFeatures,)\n",
        "        fisher ratio\n",
        "    \"\"\"\n",
        "    trgx = X.copy()\n",
        "    trgy = y.copy()\n",
        "\n",
        "    if (trgy.ndim == 1):\n",
        "        trgy = trgy[:, np.newaxis]\n",
        "\n",
        "    classlabels = np.unique(trgy)\n",
        "    nclasses = len(classlabels)\n",
        "    nfeatures = trgx.shape[1]  # !!!previous np.size(trgx,1)\n",
        "    # print(f'nfeatures = {nfeatures}')\n",
        "\n",
        "    nk = np.zeros((nclasses, 1))\n",
        "    mk = np.zeros((nclasses, nfeatures))\n",
        "    vk = np.zeros((nclasses, nfeatures))\n",
        "    for i in range(0, nclasses):\n",
        "        iclass = classlabels[i]\n",
        "        idx = trgy[:, 0] == iclass\n",
        "        # print(f'idx = {idx}')\n",
        "        nk[i] = (np.sum(idx))\n",
        "\n",
        "        fk = trgx[(idx)]\n",
        "        # print(f'class {iclass} features = {fk}')\n",
        "        mk[i, :] = np.mean(fk, 0)\n",
        "        vk[i, :] = np.var(fk, 0, ddof=1)\n",
        "\n",
        "    # find overall mean\n",
        "    m = np.mean(trgx, 0)\n",
        "    n = np.sum(nk)\n",
        "\n",
        "    SB = np.sum((mk - m) * (mk - m) * nk / n, axis=0)\n",
        "    SW = np.sum(vk * nk / n, axis=0)\n",
        "\n",
        "    # print(f'SB = {SB}')\n",
        "    # print(f'SW = {SW}')\n",
        "\n",
        "    FR = SB / SW\n",
        "    idx = np.argsort(FR)  # this s in ascending order\n",
        "    idx = idx[::-1]  # in descending order\n",
        "    # print(f'idx = {idx}')\n",
        "    # print(f'FR = {FR}')\n",
        "    # print(f'FR_sorted = {FR_sorted}')\n",
        "    return FR\n",
        "\n",
        "\n",
        "# Press the green button in the gutter to run the script.\n",
        "if __name__ == '__main__':\n",
        "    # trgx = np.array([[1.2,4.2,5.4],[2.3,4,3.2],[1.5,4.6,7.8],[5.7,9.8,1],[1.9,2.1,2.3],[2.11,13.2,5.6]],dtype = float)\n",
        "    ntrg = 100\n",
        "    nf = 5\n",
        "    nc = 3\n",
        "    trgx = np.random.randn(ntrg, nf)\n",
        "\n",
        "    # print(f'trgx = {trgx}')\n",
        "\n",
        "    # simulate classes\n",
        "    trgy = np.zeros((ntrg, 1))\n",
        "    n = round(ntrg / nc)\n",
        "    for ir in range(0, nc):\n",
        "        i = np.arange(0, n) + ir * n\n",
        "        trgy[i] = ir\n",
        "\n",
        "    # print(f'trgy = {trgy}')\n",
        "\n",
        "    # https://stackoverflow.com/questions/43394393/oct2py-only-returning-the-first-output-argument    \n",
        "    runOct2Py = 0\n",
        "    if runOct2Py:\n",
        "        start = time.time()\n",
        "        oc = Oct2Py()\n",
        "        trg = np.concatenate((trgx, trgy), axis=1)\n",
        "        # print(trg)\n",
        "        output, output2 = oc.fisherRatioM(trg, True, nout=2)\n",
        "        print(f'output = {output - 1}')\n",
        "        print(f'output2 = {output2}')\n",
        "        end = time.time()\n",
        "        print(f'time taken for octave = {end - start}s')\n",
        "\n",
        "    start = time.time()\n",
        "    fr = fisher_ratio_M(trrgx, trrgy)\n",
        "    # idx, fr_sorted_vals = fisher_ratio_M(trgx, trgy)\n",
        "    fr_sorted_vals = np.sort(fr)\n",
        "    idx = np.argsort(fr)\n",
        "    idx = idx[::-1]\n",
        "    idx = idx[-25:]\n",
        "    print(f'idx = {idx}')\n",
        "    print(f'fr_sorted_vals = {fr_sorted_vals}')\n",
        "    end = time.time()\n",
        "    print(f'time taken for python = {end - start}s')\n",
        "\n",
        "    cProfile.run(\"fisher_ratio_M(trgx,trgy)\")\n"
      ],
      "metadata": {
        "colab": {
          "base_uri": "https://localhost:8080/"
        },
        "id": "whoWDyf33vPM",
        "outputId": "84c03926-7eac-4be6-eedc-f51d65c67dc6"
      },
      "execution_count": null,
      "outputs": [
        {
          "output_type": "stream",
          "name": "stdout",
          "text": [
            "idx = [ 0  6  3 12 18  9 15 24 21 35 36 38 41 33 44 30 17 27 26 20 23  2 50 47\n",
            "  8  5 11 32 29 42 39 14 45 48 34 37 22 16 28 25 19 49 31 10 46 13  7  1\n",
            "  4 43 40]\n",
            "fr_sorted_vals = [0.01099428 0.0145889  0.0175195  0.018089   0.01962025 0.02502919\n",
            " 0.02510935 0.0263206  0.02865916 0.03618974 0.03768013 0.03807544\n",
            " 0.03865755 0.04999698 0.06103043 0.06279274 0.0711717  0.08892501\n",
            " 0.10390791 0.39265724 0.43521005 0.46584307 0.56041697 0.56234336\n",
            " 0.67692852 0.7038909  0.74392716 0.79947924 0.82003932 0.8905791\n",
            " 0.93066107 0.99803092 1.02823417 1.11692689 1.13554503 1.27522986\n",
            " 1.34279144 1.36425424 1.36662369 1.43511273 1.4502609  1.65576792\n",
            " 1.82491419 1.98747163 2.42122397 2.55192463 2.62312811 2.62819895\n",
            " 2.63341844 2.64765355 2.71097572]\n",
            "time taken for python = 0.005539894104003906s\n",
            "         183 function calls in 0.001 seconds\n",
            "\n",
            "   Ordered by: standard name\n",
            "\n",
            "   ncalls  tottime  percall  cumtime  percall filename:lineno(function)\n",
            "        1    0.000    0.000    0.000    0.000 <__array_function__ internals>:2(argsort)\n",
            "        4    0.000    0.000    0.000    0.000 <__array_function__ internals>:2(mean)\n",
            "        6    0.000    0.000    0.000    0.000 <__array_function__ internals>:2(sum)\n",
            "        1    0.000    0.000    0.000    0.000 <__array_function__ internals>:2(unique)\n",
            "        3    0.000    0.000    0.000    0.000 <__array_function__ internals>:2(var)\n",
            "        1    0.000    0.000    0.001    0.001 <ipython-input-37-08989f542b12>:1(fisher_ratio_M)\n",
            "        1    0.000    0.000    0.001    0.001 <string>:1(<module>)\n",
            "        4    0.000    0.000    0.000    0.000 _methods.py:162(_mean)\n",
            "        3    0.000    0.000    0.000    0.000 _methods.py:195(_var)\n",
            "        7    0.000    0.000    0.000    0.000 _methods.py:66(_count_reduce_items)\n",
            "        1    0.000    0.000    0.000    0.000 arraysetops.py:125(_unpack_tuple)\n",
            "        1    0.000    0.000    0.000    0.000 arraysetops.py:133(_unique_dispatcher)\n",
            "        1    0.000    0.000    0.000    0.000 arraysetops.py:138(unique)\n",
            "        1    0.000    0.000    0.000    0.000 arraysetops.py:320(_unique1d)\n",
            "        1    0.000    0.000    0.000    0.000 fromnumeric.py:1002(_argsort_dispatcher)\n",
            "        1    0.000    0.000    0.000    0.000 fromnumeric.py:1006(argsort)\n",
            "        6    0.000    0.000    0.000    0.000 fromnumeric.py:2118(_sum_dispatcher)\n",
            "        6    0.000    0.000    0.000    0.000 fromnumeric.py:2123(sum)\n",
            "        4    0.000    0.000    0.000    0.000 fromnumeric.py:3317(_mean_dispatcher)\n",
            "        4    0.000    0.000    0.000    0.000 fromnumeric.py:3322(mean)\n",
            "        3    0.000    0.000    0.000    0.000 fromnumeric.py:3585(_var_dispatcher)\n",
            "        3    0.000    0.000    0.000    0.000 fromnumeric.py:3590(var)\n",
            "        1    0.000    0.000    0.000    0.000 fromnumeric.py:51(_wrapfunc)\n",
            "        6    0.000    0.000    0.000    0.000 fromnumeric.py:69(_wrapreduction)\n",
            "        6    0.000    0.000    0.000    0.000 fromnumeric.py:70(<dictcomp>)\n",
            "        1    0.000    0.000    0.001    0.001 {built-in method builtins.exec}\n",
            "        1    0.000    0.000    0.000    0.000 {built-in method builtins.getattr}\n",
            "       23    0.000    0.000    0.000    0.000 {built-in method builtins.isinstance}\n",
            "       14    0.000    0.000    0.000    0.000 {built-in method builtins.issubclass}\n",
            "        2    0.000    0.000    0.000    0.000 {built-in method builtins.len}\n",
            "       12    0.000    0.000    0.000    0.000 {built-in method numpy.asanyarray}\n",
            "       15    0.000    0.000    0.000    0.000 {built-in method numpy.core._multiarray_umath.implement_array_function}\n",
            "        7    0.000    0.000    0.000    0.000 {built-in method numpy.core._multiarray_umath.normalize_axis_index}\n",
            "        1    0.000    0.000    0.000    0.000 {built-in method numpy.empty}\n",
            "        3    0.000    0.000    0.000    0.000 {built-in method numpy.zeros}\n",
            "        1    0.000    0.000    0.000    0.000 {method 'argsort' of 'numpy.ndarray' objects}\n",
            "        2    0.000    0.000    0.000    0.000 {method 'copy' of 'numpy.ndarray' objects}\n",
            "        1    0.000    0.000    0.000    0.000 {method 'disable' of '_lsprof.Profiler' objects}\n",
            "        1    0.000    0.000    0.000    0.000 {method 'flatten' of 'numpy.ndarray' objects}\n",
            "        6    0.000    0.000    0.000    0.000 {method 'items' of 'dict' objects}\n",
            "       16    0.000    0.000    0.000    0.000 {method 'reduce' of 'numpy.ufunc' objects}\n",
            "        1    0.000    0.000    0.000    0.000 {method 'sort' of 'numpy.ndarray' objects}\n",
            "\n",
            "\n"
          ]
        }
      ]
    },
    {
      "cell_type": "code",
      "source": [
        "#Copy over the idx outputted from fisher ratio\n",
        "idx = [14, 45, 39, 42, 48, 34, 29, 32, 11, 37, 5, 8, 22, 16, 28, 25, 47, 50, 19, 2, 23, 20, 49, 31, 26, 27]\n",
        "new= []\n",
        "#Outputs the list of top features based on comparing the index to the list of all features\n",
        "existing = ['y1','x1','c1','y2','x2','c2','y3','x3','c3','y4','x4','c4','y5','x5','c5','y6','x6','c6','y7','x7','c7','y8','x8','c8','y9','x9','c9','y10','x10','c10','y11','x11','c11','y12','x12','c12','y13','x13','c13','y14','x14','c14','y15','x15','c15','y16','x16','c16','y17','x17','c17']\n",
        "for i in idx:\n",
        "  new.append(existing[i])\n",
        "print(new)\n",
        "\n"
      ],
      "metadata": {
        "colab": {
          "base_uri": "https://localhost:8080/"
        },
        "id": "xs_alGRNBolx",
        "outputId": "eb4cb82f-c5e2-412d-fc6d-1cdb0f681148"
      },
      "execution_count": null,
      "outputs": [
        {
          "output_type": "stream",
          "name": "stdout",
          "text": [
            "26\n",
            "['c5', 'y16', 'y14', 'y15', 'y17', 'x12', 'c10', 'c11', 'c4', 'x13', 'c2', 'c3', 'x8', 'x6', 'x10', 'x9', 'c16', 'c17', 'x7', 'c1', 'c8', 'c7', 'x17', 'x11', 'c9', 'y10']\n"
          ]
        }
      ]
    }
  ]
}