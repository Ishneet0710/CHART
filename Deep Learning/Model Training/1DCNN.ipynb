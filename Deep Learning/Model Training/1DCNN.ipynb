{
  "cells": [
    {
      "cell_type": "code",
      "execution_count": null,
      "metadata": {
        "colab": {
          "base_uri": "https://localhost:8080/"
        },
        "id": "IrNEcpHuXFft",
        "outputId": "a5910511-0a56-4b52-9060-f7b710f05bfc"
      },
      "outputs": [
        {
          "output_type": "stream",
          "name": "stdout",
          "text": [
            "Mounted at /content/drive\n"
          ]
        }
      ],
      "source": [
        "from google.colab import drive\n",
        "drive.mount('/content/drive')"
      ]
    },
    {
      "cell_type": "code",
      "source": [
        "#Libraries\n",
        "import numpy as np \n",
        "import tensorflow as tf\n",
        "import pandas as pd \n",
        "import matplotlib.pyplot as plt\n",
        "from sklearn.preprocessing import StandardScaler\n",
        "from sklearn.metrics import confusion_matrix, classification_report\n",
        "import seaborn as sns\n",
        "from keras.layers import Conv1D, BatchNormalization, GlobalAveragePooling1D, Permute, Dropout, Input, Dense, LSTM, concatenate, Activation,  Bidirectional, Model, AvgPool1D, Flatten\n",
        "from sklearn.metrics import accuracy_score, confusion_matrix, roc_auc_score, roc_curve, auc"
      ],
      "metadata": {
        "id": "ANY_pKbwHW8Q"
      },
      "execution_count": null,
      "outputs": []
    },
    {
      "cell_type": "code",
      "source": [
        "#Data Loading and Formation of X,y\n",
        "X_tr = pd.read_csv('/content/drive/My Drive/roc test/Own_Training.csv')\n",
        "Y_train = X_tr['class'].astype('category').cat.codes\n",
        "X_te = pd.read_csv('/content/drive/My Drive/roc test/Own_Test.csv')\n",
        "Y_test = X_te['class'].astype('category').cat.codes\n",
        "X_val = pd.read_csv('/content/drive/My Drive/roc test/Own_Validation.csv')\n",
        "Y_val = X_val['class'].astype('category').cat.codes\n",
        "X_te = X_te.drop(['class'], axis=1)\n",
        "X_tr = X_tr.drop(['class'], axis = 1)\n",
        "X_val = X_val.drop(['class'], axis = 1)\n",
        "\n",
        "#Bool to enable feature selection depending on dataset; only combined dataset does not use feature selection\n",
        "feature_sel = True\n",
        "#Initializing scaler\n",
        "scaler = StandardScaler()\n",
        "\n",
        "#Option to use feature selection\n",
        "if feature_sel:\n",
        "  X_tr = X_tr[['y15', 'c17', 'y14', 'c10', 'c11', 'y11', 'y10', 'x13', 'x9', 'x7', 'x11', 'y13', 'y12', 'x5', 'x15', 'x3', 'x1', 'x12', 'x2', 'x4', 'x6', 'x17', 'x10', 'x8', 'x14', 'x16']]\n",
        "  X_val = X_val[['y15', 'c17', 'y14', 'c10', 'c11', 'y11', 'y10', 'x13', 'x9', 'x7', 'x11', 'y13', 'y12', 'x5', 'x15', 'x3', 'x1', 'x12', 'x2', 'x4', 'x6', 'x17', 'x10', 'x8', 'x14', 'x16']]\n",
        "  X_te = X_te[['y15', 'c17', 'y14', 'c10', 'c11', 'y11', 'y10', 'x13', 'x9', 'x7', 'x11', 'y13', 'y12', 'x5', 'x15', 'x3', 'x1', 'x12', 'x2', 'x4', 'x6', 'x17', 'x10', 'x8', 'x14', 'x16']]\n",
        "\n",
        "#Scale the data based on training set\n",
        "scaler.fit(X_tr)\n",
        "\n",
        "#Transform the training, validation, test sets based on parameters obtained from training set\n",
        "X_train = scaler.transform(X_tr)\n",
        "\n",
        "X_val = scaler.transform(X_val)\n",
        "\n",
        "X_test = scaler.transform(X_te)"
      ],
      "metadata": {
        "colab": {
          "base_uri": "https://localhost:8080/"
        },
        "id": "nYS-4VNigZna",
        "outputId": "8062e56b-8d3c-4d53-e9f4-1aee0858a24b"
      },
      "execution_count": null,
      "outputs": [
        {
          "output_type": "stream",
          "name": "stdout",
          "text": [
            "(100883,)\n",
            "(7368,)\n",
            "(7392,)\n"
          ]
        }
      ]
    },
    {
      "cell_type": "code",
      "source": [
        "#Model\n",
        "model = models.Sequential()\n",
        "model.add(layers.Conv1D(filters=32, kernel_size=5, padding = \"same\" , input_shape=(X_train.shape[1], 1)))\n",
        "model.add(layers.Dropout(0.2))\n",
        "model.add(layers.Conv1D(filters=32, kernel_size=5, padding = \"same\"))\n",
        "model.add(layers.AvgPool1D(2))\n",
        "model.add(layers.Conv1D(filters=32, kernel_size=5, padding = \"same\"))\n",
        "model.add(layers.AvgPool1D(2))\n",
        "model.add(layers.Flatten())\n",
        "model.add(layers.Dense(64, activation='relu'))\n",
        "model.add(layers.Dropout(0.2))\n",
        "model.add(layers.Dense(3, activation='softmax'))\n",
        "\n",
        "model.summary()\n",
        "\n",
        "opt = tf.keras.optimizers.Adam(0.0001)\n",
        "\n",
        "model.compile(opt, loss='sparse_categorical_crossentropy', metrics=['accuracy'])\n",
        "\n",
        "history = model.fit(X_train, Y_train,\n",
        "          epochs=50, \n",
        "          batch_size=128,\n",
        "          validation_data=(X_test, Y_test),\n",
        "          verbose=1,\n",
        "          shuffle= True)"
      ],
      "metadata": {
        "colab": {
          "base_uri": "https://localhost:8080/"
        },
        "id": "CblBPnuNO0Pt",
        "outputId": "2a82fe17-b8e0-4ee9-a16c-e60b22791c41"
      },
      "execution_count": null,
      "outputs": [
        {
          "output_type": "stream",
          "name": "stdout",
          "text": [
            "Model: \"model_2\"\n",
            "__________________________________________________________________________________________________\n",
            " Layer (type)                   Output Shape         Param #     Connected to                     \n",
            "==================================================================================================\n",
            " input_3 (InputLayer)           [(None, 51, 1)]      0           []                               \n",
            "                                                                                                  \n",
            " permute_2 (Permute)            (None, 1, 51)        0           ['input_3[0][0]']                \n",
            "                                                                                                  \n",
            " conv1d_2 (Conv1D)              (None, 1, 64)        26176       ['permute_2[0][0]']              \n",
            "                                                                                                  \n",
            " batch_normalization_2 (BatchNo  (None, 1, 64)       256         ['conv1d_2[0][0]']               \n",
            " rmalization)                                                                                     \n",
            "                                                                                                  \n",
            " bidirectional_2 (Bidirectional  (None, 30)          2040        ['input_3[0][0]']                \n",
            " )                                                                                                \n",
            "                                                                                                  \n",
            " activation_2 (Activation)      (None, 1, 64)        0           ['batch_normalization_2[0][0]']  \n",
            "                                                                                                  \n",
            " dropout_2 (Dropout)            (None, 30)           0           ['bidirectional_2[0][0]']        \n",
            "                                                                                                  \n",
            " global_average_pooling1d_2 (Gl  (None, 64)          0           ['activation_2[0][0]']           \n",
            " obalAveragePooling1D)                                                                            \n",
            "                                                                                                  \n",
            " concatenate_2 (Concatenate)    (None, 94)           0           ['dropout_2[0][0]',              \n",
            "                                                                  'global_average_pooling1d_2[0][0\n",
            "                                                                 ]']                              \n",
            "                                                                                                  \n",
            " dense_2 (Dense)                (None, 3)            285         ['concatenate_2[0][0]']          \n",
            "                                                                                                  \n",
            "==================================================================================================\n",
            "Total params: 28,757\n",
            "Trainable params: 28,629\n",
            "Non-trainable params: 128\n",
            "__________________________________________________________________________________________________\n",
            "Epoch 1/50\n",
            "789/789 [==============================] - 29s 32ms/step - loss: 0.7231 - accuracy: 0.6809 - val_loss: 0.6906 - val_accuracy: 0.7321\n",
            "Epoch 2/50\n",
            "789/789 [==============================] - 25s 31ms/step - loss: 0.5265 - accuracy: 0.8002 - val_loss: 0.6034 - val_accuracy: 0.7761\n",
            "Epoch 3/50\n",
            "789/789 [==============================] - 25s 31ms/step - loss: 0.4609 - accuracy: 0.8295 - val_loss: 0.5486 - val_accuracy: 0.8001\n",
            "Epoch 4/50\n",
            "789/789 [==============================] - 25s 32ms/step - loss: 0.4213 - accuracy: 0.8434 - val_loss: 0.4963 - val_accuracy: 0.8160\n",
            "Epoch 5/50\n",
            "789/789 [==============================] - 25s 32ms/step - loss: 0.3941 - accuracy: 0.8535 - val_loss: 0.4672 - val_accuracy: 0.8215\n",
            "Epoch 6/50\n",
            "789/789 [==============================] - 25s 31ms/step - loss: 0.3752 - accuracy: 0.8598 - val_loss: 0.4235 - val_accuracy: 0.8367\n",
            "Epoch 7/50\n",
            "789/789 [==============================] - 25s 31ms/step - loss: 0.3620 - accuracy: 0.8644 - val_loss: 0.3956 - val_accuracy: 0.8476\n",
            "Epoch 8/50\n",
            "789/789 [==============================] - 25s 31ms/step - loss: 0.3518 - accuracy: 0.8684 - val_loss: 0.3825 - val_accuracy: 0.8530\n",
            "Epoch 9/50\n",
            "789/789 [==============================] - 25s 31ms/step - loss: 0.3409 - accuracy: 0.8728 - val_loss: 0.3669 - val_accuracy: 0.8574\n",
            "Epoch 10/50\n",
            "789/789 [==============================] - 25s 32ms/step - loss: 0.3349 - accuracy: 0.8734 - val_loss: 0.3609 - val_accuracy: 0.8590\n",
            "Epoch 11/50\n",
            "789/789 [==============================] - 25s 31ms/step - loss: 0.3277 - accuracy: 0.8769 - val_loss: 0.3513 - val_accuracy: 0.8625\n",
            "Epoch 12/50\n",
            "789/789 [==============================] - 25s 32ms/step - loss: 0.3219 - accuracy: 0.8792 - val_loss: 0.3391 - val_accuracy: 0.8659\n",
            "Epoch 13/50\n",
            "789/789 [==============================] - 24s 31ms/step - loss: 0.3156 - accuracy: 0.8818 - val_loss: 0.3506 - val_accuracy: 0.8644\n",
            "Epoch 14/50\n",
            "789/789 [==============================] - 24s 31ms/step - loss: 0.3124 - accuracy: 0.8821 - val_loss: 0.3344 - val_accuracy: 0.8716\n",
            "Epoch 15/50\n",
            "789/789 [==============================] - 25s 31ms/step - loss: 0.3073 - accuracy: 0.8843 - val_loss: 0.3433 - val_accuracy: 0.8693\n",
            "Epoch 16/50\n",
            "789/789 [==============================] - 25s 31ms/step - loss: 0.3034 - accuracy: 0.8857 - val_loss: 0.3220 - val_accuracy: 0.8742\n",
            "Epoch 17/50\n",
            "789/789 [==============================] - 25s 32ms/step - loss: 0.2995 - accuracy: 0.8875 - val_loss: 0.3268 - val_accuracy: 0.8747\n",
            "Epoch 18/50\n",
            "789/789 [==============================] - 25s 31ms/step - loss: 0.2965 - accuracy: 0.8886 - val_loss: 0.3255 - val_accuracy: 0.8755\n",
            "Epoch 19/50\n",
            "789/789 [==============================] - 25s 31ms/step - loss: 0.2939 - accuracy: 0.8893 - val_loss: 0.3227 - val_accuracy: 0.8804\n",
            "Epoch 20/50\n",
            "789/789 [==============================] - 25s 31ms/step - loss: 0.2916 - accuracy: 0.8895 - val_loss: 0.3055 - val_accuracy: 0.8826\n",
            "Epoch 21/50\n",
            "789/789 [==============================] - 25s 32ms/step - loss: 0.2890 - accuracy: 0.8902 - val_loss: 0.3154 - val_accuracy: 0.8798\n",
            "Epoch 22/50\n",
            "789/789 [==============================] - 25s 31ms/step - loss: 0.2861 - accuracy: 0.8934 - val_loss: 0.3087 - val_accuracy: 0.8836\n",
            "Epoch 23/50\n",
            "789/789 [==============================] - 25s 32ms/step - loss: 0.2822 - accuracy: 0.8950 - val_loss: 0.3200 - val_accuracy: 0.8807\n",
            "Epoch 24/50\n",
            "789/789 [==============================] - 25s 32ms/step - loss: 0.2828 - accuracy: 0.8938 - val_loss: 0.3061 - val_accuracy: 0.8830\n",
            "Epoch 25/50\n",
            "789/789 [==============================] - 25s 32ms/step - loss: 0.2793 - accuracy: 0.8954 - val_loss: 0.3048 - val_accuracy: 0.8857\n",
            "Epoch 26/50\n",
            "789/789 [==============================] - 25s 32ms/step - loss: 0.2777 - accuracy: 0.8959 - val_loss: 0.3127 - val_accuracy: 0.8833\n",
            "Epoch 27/50\n",
            "789/789 [==============================] - 25s 32ms/step - loss: 0.2759 - accuracy: 0.8959 - val_loss: 0.3262 - val_accuracy: 0.8762\n",
            "Epoch 28/50\n",
            "789/789 [==============================] - 25s 32ms/step - loss: 0.2731 - accuracy: 0.8977 - val_loss: 0.3011 - val_accuracy: 0.8891\n",
            "Epoch 29/50\n",
            "789/789 [==============================] - 25s 32ms/step - loss: 0.2713 - accuracy: 0.8980 - val_loss: 0.2982 - val_accuracy: 0.8884\n",
            "Epoch 30/50\n",
            "789/789 [==============================] - 25s 32ms/step - loss: 0.2699 - accuracy: 0.8989 - val_loss: 0.3122 - val_accuracy: 0.8852\n",
            "Epoch 31/50\n",
            "789/789 [==============================] - 25s 31ms/step - loss: 0.2695 - accuracy: 0.8988 - val_loss: 0.3125 - val_accuracy: 0.8840\n",
            "Epoch 32/50\n",
            "789/789 [==============================] - 25s 31ms/step - loss: 0.2679 - accuracy: 0.8999 - val_loss: 0.3093 - val_accuracy: 0.8837\n",
            "Epoch 33/50\n",
            "789/789 [==============================] - 25s 32ms/step - loss: 0.2647 - accuracy: 0.9006 - val_loss: 0.3018 - val_accuracy: 0.8886\n",
            "Epoch 34/50\n",
            "789/789 [==============================] - 25s 31ms/step - loss: 0.2648 - accuracy: 0.9013 - val_loss: 0.3127 - val_accuracy: 0.8844\n",
            "Epoch 35/50\n",
            "789/789 [==============================] - 25s 31ms/step - loss: 0.2623 - accuracy: 0.9027 - val_loss: 0.3143 - val_accuracy: 0.8838\n",
            "Epoch 36/50\n",
            "789/789 [==============================] - 25s 32ms/step - loss: 0.2627 - accuracy: 0.9008 - val_loss: 0.3211 - val_accuracy: 0.8784\n",
            "Epoch 37/50\n",
            "789/789 [==============================] - 25s 31ms/step - loss: 0.2615 - accuracy: 0.9015 - val_loss: 0.3034 - val_accuracy: 0.8865\n",
            "Epoch 38/50\n",
            "789/789 [==============================] - 25s 32ms/step - loss: 0.2602 - accuracy: 0.9030 - val_loss: 0.2843 - val_accuracy: 0.8914\n",
            "Epoch 39/50\n",
            "789/789 [==============================] - 25s 31ms/step - loss: 0.2583 - accuracy: 0.9029 - val_loss: 0.3032 - val_accuracy: 0.8859\n",
            "Epoch 40/50\n",
            "789/789 [==============================] - 26s 33ms/step - loss: 0.2573 - accuracy: 0.9036 - val_loss: 0.3083 - val_accuracy: 0.8818\n",
            "Epoch 41/50\n",
            "789/789 [==============================] - 25s 32ms/step - loss: 0.2569 - accuracy: 0.9037 - val_loss: 0.3257 - val_accuracy: 0.8798\n",
            "Epoch 42/50\n",
            "789/789 [==============================] - 25s 32ms/step - loss: 0.2546 - accuracy: 0.9049 - val_loss: 0.3121 - val_accuracy: 0.8836\n",
            "Epoch 43/50\n",
            "789/789 [==============================] - 25s 32ms/step - loss: 0.2549 - accuracy: 0.9038 - val_loss: 0.2996 - val_accuracy: 0.8875\n",
            "Epoch 44/50\n",
            "789/789 [==============================] - 26s 33ms/step - loss: 0.2530 - accuracy: 0.9054 - val_loss: 0.3095 - val_accuracy: 0.8837\n",
            "Epoch 45/50\n",
            "789/789 [==============================] - 25s 32ms/step - loss: 0.2517 - accuracy: 0.9065 - val_loss: 0.3202 - val_accuracy: 0.8819\n",
            "Epoch 46/50\n",
            "789/789 [==============================] - 25s 32ms/step - loss: 0.2519 - accuracy: 0.9058 - val_loss: 0.2973 - val_accuracy: 0.8888\n",
            "Epoch 47/50\n",
            "789/789 [==============================] - 25s 32ms/step - loss: 0.2499 - accuracy: 0.9062 - val_loss: 0.3116 - val_accuracy: 0.8823\n",
            "Epoch 48/50\n",
            "789/789 [==============================] - 25s 32ms/step - loss: 0.2492 - accuracy: 0.9062 - val_loss: 0.3097 - val_accuracy: 0.8815\n",
            "Epoch 49/50\n",
            "789/789 [==============================] - 25s 32ms/step - loss: 0.2480 - accuracy: 0.9082 - val_loss: 0.3074 - val_accuracy: 0.8822\n",
            "Epoch 50/50\n",
            "789/789 [==============================] - 25s 32ms/step - loss: 0.2475 - accuracy: 0.9071 - val_loss: 0.3176 - val_accuracy: 0.8812\n"
          ]
        }
      ]
    },
    {
      "cell_type": "code",
      "execution_count": null,
      "metadata": {
        "colab": {
          "base_uri": "https://localhost:8080/",
          "height": 1000
        },
        "id": "1Bmv4cuQaS7T",
        "outputId": "56103182-1d50-4c50-f9a8-4371ea38ba89"
      },
      "outputs": [
        {
          "output_type": "display_data",
          "data": {
            "text/plain": [
              "<Figure size 432x288 with 1 Axes>"
            ],
            "image/png": "[encoded data removed]"
          },
          "metadata": {
            "needs_background": "light"
          }
        },
        {
          "output_type": "display_data",
          "data": {
            "text/plain": [
              "<Figure size 432x288 with 1 Axes>"
            ],
            "image/png": "[encoded data removed]"
          },
          "metadata": {
            "needs_background": "light"
          }
        },
        {
          "output_type": "stream",
          "name": "stdout",
          "text": [
            "231/231 [==============================] - 2s 6ms/step\n"
          ]
        },
        {
          "output_type": "display_data",
          "data": {
            "text/plain": [
              "<Figure size 432x288 with 2 Axes>"
            ],
            "image/png": "[encoded data removed]"
          },
          "metadata": {
            "needs_background": "light"
          }
        },
        {
          "output_type": "stream",
          "name": "stdout",
          "text": [
            "Classifcation Report:\n",
            "               precision    recall  f1-score   support\n",
            "\n",
            "           0       0.87      0.95      0.91      2454\n",
            "           1       0.87      0.78      0.82      2455\n",
            "           2       0.91      0.91      0.91      2459\n",
            "\n",
            "    accuracy                           0.88      7368\n",
            "   macro avg       0.88      0.88      0.88      7368\n",
            "weighted avg       0.88      0.88      0.88      7368\n",
            "\n"
          ]
        }
      ],
      "source": [
        "#Plot Acc Graph\n",
        "plt.plot(history.history['accuracy'])\n",
        "plt.plot(history.history['val_accuracy'])\n",
        "plt.title('model accuracy')\n",
        "plt.ylabel('accuracy')\n",
        "plt.xlabel('epoch')\n",
        "plt.ylim((0,1.5))\n",
        "plt.xlim((0,50))\n",
        "plt.legend(['train', 'val'], loc='upper left')\n",
        "plt.show()\n",
        "\n",
        "#Plot Loss Graph\n",
        "plt.plot(history.history['loss'])\n",
        "plt.plot(history.history['val_loss'])\n",
        "plt.title('model loss')\n",
        "plt.ylabel('loss')\n",
        "plt.xlabel('epoch')\n",
        "plt.ylim((0,1.5))\n",
        "plt.xlim((0,50))\n",
        "plt.legend(['train', 'val'], loc='upper left')\n",
        "plt.show()\n",
        "\n",
        "\n",
        "#Confusion Matrix and Report\n",
        "y_pred = np.array(list(map(lambda x: np.argmax(x), model.predict(X_val))))\n",
        "\n",
        "cf = confusion_matrix(Y_val, y_pred)\n",
        "labels=['standing','sitting','lying']\n",
        "ax = sns.heatmap(cf,cmap=\"gist_ncar\",vmin=0.5, linewidth=0.5, annot=True, fmt=\"d\",xticklabels =labels,yticklabels =labels)\n",
        "\n",
        "plt.show()\n",
        "\n",
        "clr = classification_report(Y_val, y_pred)\n",
        "\n",
        "print('Classifcation Report:\\n', clr)"
      ]
    },
    {
      "cell_type": "code",
      "source": [
        "#Obtain test set metrics\n",
        "model.evaluate(X_test, Y_test)"
      ],
      "metadata": {
        "colab": {
          "base_uri": "https://localhost:8080/"
        },
        "id": "UjPQmbsgQg38",
        "outputId": "63492a3e-6aa9-4e2c-b3f0-35d5e428c0e3"
      },
      "execution_count": null,
      "outputs": [
        {
          "output_type": "stream",
          "name": "stdout",
          "text": [
            "231/231 [==============================] - 1s 6ms/step - loss: 0.4008 - accuracy: 0.8655\n"
          ]
        },
        {
          "output_type": "execute_result",
          "data": {
            "text/plain": [
              "[0.4008452296257019, 0.8655303120613098]"
            ]
          },
          "metadata": {},
          "execution_count": 24
        }
      ]
    },
    {
      "cell_type": "code",
      "source": [
        "#ROC Score\n",
        "y_pred = model.predict(X_test)\n",
        "roc_auc_score(Y_test, y_pred,multi_class=\"ovr\")"
      ],
      "metadata": {
        "colab": {
          "base_uri": "https://localhost:8080/"
        },
        "id": "HtLufTrLC1Gi",
        "outputId": "15b8c170-2e4f-4c0a-d20f-3fc6fa2a58c1"
      },
      "execution_count": null,
      "outputs": [
        {
          "output_type": "stream",
          "name": "stdout",
          "text": [
            "231/231 [==============================] - 2s 10ms/step\n"
          ]
        },
        {
          "output_type": "execute_result",
          "data": {
            "text/plain": [
              "0.972278506912358"
            ]
          },
          "metadata": {},
          "execution_count": 27
        }
      ]
    },
    {
      "cell_type": "code",
      "source": [
        "#Plot ROC Curve\n",
        "def plot_multiclass_roc(model, X_test, y_test, n_classes, figsize=(17, 6)):\n",
        "    y_score = model.predict(X_test)\n",
        "    classy = ['standing', 'sitting', 'lying']\n",
        "    #Structures\n",
        "    fpr = dict()\n",
        "    tpr = dict()\n",
        "    roc_auc = dict()\n",
        "\n",
        "    y_test_dummies = pd.get_dummies(y_test, drop_first=False).values\n",
        "    for i in range(n_classes):\n",
        "        fpr[i], tpr[i], _ = roc_curve(y_test_dummies[:, i], y_score[:, i])\n",
        "        roc_auc[i] = auc(fpr[i], tpr[i])\n",
        "\n",
        "    #Roc for each class\n",
        "    fig, ax = plt.subplots(figsize=figsize)\n",
        "    ax.plot([0, 1], [0, 1], 'k--')\n",
        "    ax.set_xlim([0.0, 1.0])\n",
        "    ax.set_ylim([0.0, 1.05])\n",
        "    ax.set_xlabel('False Positive Rate')\n",
        "    ax.set_ylabel('True Positive Rate')\n",
        "    ax.set_title('Receiver operating characteristic curve')\n",
        "    for i in range(n_classes):\n",
        "        ax.plot(fpr[i], tpr[i], label='ROC curve (area = %0.2f) for %s' % (roc_auc[i], classy[i]))\n",
        "        print(roc_auc[i])\n",
        "    ax.legend(loc=\"best\")\n",
        "    ax.grid(alpha=.4)\n",
        "    sns.despine()\n",
        "    plt.savefig('roc.png')\n",
        "    plt.show()\n",
        "      \n",
        "\n",
        "plot_multiclass_roc(model, X_test, Y_test, n_classes=3, figsize=(10,6))\n"
      ],
      "metadata": {
        "colab": {
          "base_uri": "https://localhost:8080/",
          "height": 473
        },
        "id": "nnRiyEASJCnF",
        "outputId": "3b55032e-4ecc-441b-c367-e916083ff2b7"
      },
      "execution_count": null,
      "outputs": [
        {
          "output_type": "stream",
          "name": "stdout",
          "text": [
            "231/231 [==============================] - 1s 6ms/step\n",
            "0.9884821067237094\n",
            "0.9578454578559623\n",
            "0.9705079561574024\n"
          ]
        },
        {
          "output_type": "display_data",
          "data": {
            "text/plain": [
              "<Figure size 720x432 with 1 Axes>"
            ],
            "image/png": "[encoded data removed]"
          },
          "metadata": {
            "needs_background": "light"
          }
        }
      ]
    },
    {
      "cell_type": "code",
      "execution_count": null,
      "metadata": {
        "colab": {
          "base_uri": "https://localhost:8080/"
        },
        "id": "OAoqL7O5BHW0",
        "outputId": "d74aa376-d866-459f-bc5b-f3d0fb1e1214"
      },
      "outputs": [
        {
          "output_type": "stream",
          "name": "stderr",
          "text": [
            "WARNING:absl:Found untraced functions such as _jit_compiled_convolution_op, lstm_cell_1_layer_call_fn, lstm_cell_1_layer_call_and_return_conditional_losses, lstm_cell_2_layer_call_fn, lstm_cell_2_layer_call_and_return_conditional_losses while saving (showing 5 of 5). These functions will not be directly callable after loading.\n"
          ]
        }
      ],
      "source": [
        "# Convert the model.\n",
        "converter = tf.lite.TFLiteConverter.from_keras_model(model)\n",
        "converter.target_spec.supported_ops = [tf.lite.OpsSet.TFLITE_BUILTINS, tf.lite.OpsSet.SELECT_TF_OPS]\n",
        "converter._experimental_lower_tensor_list_ops = False\n",
        "tflite_model = converter.convert()\n",
        "\n",
        "# Save the model.\n",
        "with open('combined.tflite', 'wb') as f:\n",
        "  f.write(tflite_model)"
      ]
    }
  ],
  "metadata": {
    "colab": {
      "provenance": [],
      "toc_visible": true
    },
    "kernelspec": {
      "display_name": "Python 3",
      "name": "python3"
    },
    "language_info": {
      "name": "python"
    }
  },
  "nbformat": 4,
  "nbformat_minor": 0
}